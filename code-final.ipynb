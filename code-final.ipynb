{
 "cells": [
  {
   "cell_type": "code",
   "execution_count": 5,
   "metadata": {},
   "outputs": [
    {
     "name": "stdout",
     "output_type": "stream",
     "text": [
      "[5, 11, 12, 22, 25, 34, 64, 90]\n"
     ]
    }
   ],
   "source": [
    "def insetionsort(alist):\n",
    "    for i in range(1, len(alist)):\n",
    "        insert_index = i\n",
    "        current_value = alist.pop(i)\n",
    "        for j in range(i-1, -1, -1):\n",
    "            if alist[j] > current_value:\n",
    "                insert_index = j\n",
    "        alist.insert(insert_index, current_value)\n",
    "alist = [64, 34, 25, 12 , 22, 11, 90, 5]\n",
    "insetionsort(alist)\n",
    "print(alist)"
   ]
  },
  {
   "cell_type": "code",
   "execution_count": 2,
   "metadata": {},
   "outputs": [
    {
     "name": "stdout",
     "output_type": "stream",
     "text": [
      "True\n",
      "False\n"
     ]
    }
   ],
   "source": [
    "def binarysearch(alist, item):\n",
    "    first = 0\n",
    "    last = len(alist) - 1\n",
    "    found = False\n",
    "    while first <= last and not found:\n",
    "        midpoint = (first + last) // 2\n",
    "        if alist[midpoint] == item:\n",
    "            found = True\n",
    "        else:\n",
    "            if item < alist[midpoint]:\n",
    "                last = midpoint - 1\n",
    "            else:\n",
    "                first = midpoint + 1\n",
    "    return found\n",
    "testlist = [0, 1, 2, 8, 13, 17, 19, 32, 42]\n",
    "print(binarysearch(testlist, 17))\n",
    "print(binarysearch(testlist, 99))"
   ]
  },
  {
   "cell_type": "code",
   "execution_count": 4,
   "metadata": {},
   "outputs": [
    {
     "name": "stdout",
     "output_type": "stream",
     "text": [
      "[2, 4, 6, 9, 10, 13]\n"
     ]
    }
   ],
   "source": [
    "def mergeSort(arr):\n",
    "    if len(arr) > 1:\n",
    "        mid = len(arr)//2\n",
    "        sub_array1 = arr[:mid]\n",
    "        sub_array2 = arr[mid:]\n",
    "        mergeSort(sub_array1)\n",
    "        mergeSort(sub_array2)\n",
    "        i = j = k = 0\n",
    "        while i < len(sub_array1) and j < len(sub_array2):\n",
    "            if sub_array1[i] < sub_array2[j]:\n",
    "                arr[k] = sub_array1[i]\n",
    "                i += 1\n",
    "            else:\n",
    "                arr[k] = sub_array2[j]\n",
    "                j += 1\n",
    "            k += 1\n",
    "        while i < len(sub_array1):\n",
    "            arr[k] = sub_array1[i]\n",
    "            i += 1\n",
    "            k += 1\n",
    "        while j < len(sub_array2):\n",
    "            arr[k] = sub_array2[j]\n",
    "            j += 1\n",
    "            k += 1\n",
    "arr = [10, 9, 2, 4, 6, 13]\n",
    "mergeSort(arr)\n",
    "print(arr)"
   ]
  },
  {
   "cell_type": "code",
   "execution_count": 8,
   "metadata": {},
   "outputs": [
    {
     "name": "stdout",
     "output_type": "stream",
     "text": [
      "[-7, -6, 6, -1, 0, 1, 8, 9]\n"
     ]
    }
   ],
   "source": [
    "def median_of_three(arr, low, high):\n",
    "    mid = (low + high) // 2\n",
    "    if arr[low] > arr[mid]:\n",
    "        arr[low], arr[mid] = arr[mid], arr[low]\n",
    "    if arr[low] > arr[high]:\n",
    "        arr[low], arr[high] = arr[high], arr[low]\n",
    "    if arr[mid] > arr[high]:\n",
    "        arr[mid], arr[high] = arr[high], arr[mid]\n",
    "    arr[mid], arr[high - 1] = arr[high - 1], arr[mid]\n",
    "    return arr[high - 1]\n",
    "\n",
    "def quickSort(arr, low, high):\n",
    "    if low >= high:\n",
    "        return\n",
    "    pivot = median_of_three(arr, low, high)\n",
    "    i = low\n",
    "    j = high - 1\n",
    "    while True:\n",
    "        while i < j and arr[i] < pivot:\n",
    "            i += 1\n",
    "        while j > i and arr[j] > pivot:\n",
    "            j -= 1\n",
    "        if i >= j:\n",
    "            break\n",
    "        arr[i], arr[j] = arr[j], arr[i]\n",
    "    arr[i], arr[high - 1] = arr[high - 1], arr[i]\n",
    "    quickSort(arr, low, i - 1)\n",
    "    quickSort(arr, i + 1, high)\n",
    "arr = [-1, 6, 0, -6, -7, 8, 9, 1]\n",
    "quickSort(arr, 0, len(arr) - 1)\n",
    "print(arr)\n"
   ]
  },
  {
   "cell_type": "code",
   "execution_count": 12,
   "metadata": {},
   "outputs": [
    {
     "name": "stdout",
     "output_type": "stream",
     "text": [
      "[1, 5, 6, 7, 12, 13, 15]\n"
     ]
    }
   ],
   "source": [
    "def heapify(arr, n, i):\n",
    "    largest = i \n",
    "    l = 2 * i + 1 \n",
    "    r = 2 * i + 2  \n",
    "    if l < n and arr[l] > arr[largest]:\n",
    "        largest = l\n",
    "    if r < n and arr[r] > arr[largest]:\n",
    "        largest = r\n",
    "    if largest != i:\n",
    "        arr[i], arr[largest] = arr[largest], arr[i]\n",
    "        heapify(arr, n, largest)\n",
    "\n",
    "def heapSort(arr):\n",
    "    n = len(arr)\n",
    "    for i in range(n // 2 - 1, -1, -1):\n",
    "        heapify(arr, n, i)\n",
    "    for i in range(n - 1, 0, -1):\n",
    "        arr[i], arr[0] = arr[0], arr[i] \n",
    "        heapify(arr, i, 0)\n",
    "arr = [12, 1, 13, 5, 6, 7, 15]\n",
    "heapSort(arr)\n",
    "print(arr)"
   ]
  },
  {
   "cell_type": "code",
   "execution_count": 15,
   "metadata": {},
   "outputs": [
    {
     "name": "stdout",
     "output_type": "stream",
     "text": [
      "[0.1234, 0.3434, 0.565, 0.651, 0.665, 0.897]\n"
     ]
    }
   ],
   "source": [
    "def insertionSort(bucket):\n",
    "    for i in range(1, len(bucket)):\n",
    "        key = bucket[i]\n",
    "        j = i - 1\n",
    "        while j >= 0 and bucket[j] > key:\n",
    "            bucket[j + 1] = bucket[j]\n",
    "            j -= 1\n",
    "        bucket[j + 1] = key\n",
    "def bucketSort(arr):\n",
    "    n = len(arr)\n",
    "    buckets = [[] for _ in range(n)]\n",
    "    for num in arr:\n",
    "        bi = min(int(n * num), n - 1)\n",
    "        buckets[bi].append(num)\n",
    "    for bucket in buckets:\n",
    "        insertionSort(bucket)\n",
    "    index = 0\n",
    "    for bucket in buckets:\n",
    "        for num in bucket:\n",
    "            arr[index] = num\n",
    "            index += 1\n",
    "arr = [0.897, 0.565, 0.651, 0.1234, 0.665, 0.3434]\n",
    "bucketSort(arr)\n",
    "print(arr)"
   ]
  },
  {
   "cell_type": "code",
   "execution_count": 17,
   "metadata": {},
   "outputs": [
    {
     "name": "stdout",
     "output_type": "stream",
     "text": [
      "[1, 23, 45, 55, 121, 432, 564, 788]\n"
     ]
    }
   ],
   "source": [
    "def countingSort(array, place):\n",
    "    size = len(array)\n",
    "    output = [0] * size\n",
    "    count = [0] * 10\n",
    "    for i in range(size):\n",
    "        index = (array[i] // place) % 10\n",
    "        count[index] += 1\n",
    "    for i in range(1, 10):\n",
    "        count[i] += count[i - 1]\n",
    "    i = size - 1\n",
    "    while i >= 0:\n",
    "        index = (array[i] // place) % 10\n",
    "        output[count[index] - 1] = array[i]\n",
    "        count[index] -= 1\n",
    "        i -= 1\n",
    "    for i in range(size):\n",
    "        array[i] = output[i]\n",
    "def radixSort(array):\n",
    "    max_element = max(array) \n",
    "    place = 1\n",
    "    while max_element // place > 0:\n",
    "        countingSort(array, place)\n",
    "        place *= 10\n",
    "data = [121, 432, 564, 23, 1, 45, 788,55]\n",
    "radixSort(data)\n",
    "print(data)"
   ]
  },
  {
   "cell_type": "code",
   "execution_count": 20,
   "metadata": {},
   "outputs": [
    {
     "name": "stdout",
     "output_type": "stream",
     "text": [
      "[1, 2, 3, 4, 5, 6, 8]\n"
     ]
    }
   ],
   "source": [
    "def insertion_sort(arr, left=0, right=None):\n",
    "    if right is None:\n",
    "        right = len(arr) - 1\n",
    "    for i in range(left + 1, right + 1):\n",
    "        key_item = arr[i]\n",
    "        j = i - 1\n",
    "        while j >= left and arr[j] > key_item:\n",
    "            arr[j + 1] = arr[j]\n",
    "            j -= 1\n",
    "        arr[j + 1] = key_item\n",
    "    return arr\n",
    "def merge(left, right):\n",
    "    result = []\n",
    "    i = j = 0\n",
    "    while i < len(left) and j < len(right):\n",
    "        if left[i] < right[j]:\n",
    "            result.append(left[i])\n",
    "            i += 1\n",
    "        else:\n",
    "            result.append(right[j])\n",
    "            j += 1\n",
    "    result.extend(left[i:])\n",
    "    result.extend(right[j:])\n",
    "    return result\n",
    "def tim_sort(arr):\n",
    "    min_run = 32\n",
    "    n = len(arr)\n",
    "    for i in range(0, n, min_run):\n",
    "        insertion_sort(arr, i, min(i + min_run - 1, n - 1))\n",
    "    size = min_run\n",
    "    while size < n:\n",
    "        for start in range(0, n, size * 2):\n",
    "            midpoint = start + size\n",
    "            end = min((start + size * 2 - 1), (n - 1))\n",
    "            left = arr[start:midpoint]\n",
    "            right = arr[midpoint:end + 1]\n",
    "            merged_array = merge(left, right)\n",
    "            arr[start:start + len(merged_array)] = merged_array\n",
    "        size *= 2\n",
    "    return arr\n",
    "a = [5, 3, 1, 4, 6, 2,8]\n",
    "tim_sort(a)\n",
    "print(a)"
   ]
  },
  {
   "cell_type": "code",
   "execution_count": 21,
   "metadata": {},
   "outputs": [
    {
     "name": "stdout",
     "output_type": "stream",
     "text": [
      "[1, 3, 4, 5, 6, 7, 8, 9]\n"
     ]
    }
   ],
   "source": [
    "def shellSort(array):\n",
    "    interval = len(array) // 2\n",
    "    while interval > 0:\n",
    "        for i in range(interval, len(array)):\n",
    "            temp = array[i]\n",
    "            j = i\n",
    "            while j >= interval and array[j - interval] > temp:\n",
    "                array[j] = array[j - interval]\n",
    "                j -= interval\n",
    "            array[j] = temp\n",
    "        interval //= 2\n",
    "data = [9, 8, 3, 7, 5, 6, 4, 1]\n",
    "shellSort(data)\n",
    "print(data)"
   ]
  }
 ],
 "metadata": {
  "kernelspec": {
   "display_name": "Python 3",
   "language": "python",
   "name": "python3"
  },
  "language_info": {
   "codemirror_mode": {
    "name": "ipython",
    "version": 3
   },
   "file_extension": ".py",
   "mimetype": "text/x-python",
   "name": "python",
   "nbconvert_exporter": "python",
   "pygments_lexer": "ipython3",
   "version": "3.9.1"
  }
 },
 "nbformat": 4,
 "nbformat_minor": 2
}
